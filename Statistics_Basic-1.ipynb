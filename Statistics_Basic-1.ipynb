{
 "cells": [
  {
   "cell_type": "code",
   "execution_count": 1,
   "metadata": {},
   "outputs": [
    {
     "data": {
      "text/plain": [
       "'\\nStatistics is a branch of mathematics and a scientific discipline that involves collecting, organizing, analyzing, interpreting, and presenting data. \\nIt provides methods and techniques to summarize and draw conclusions from data, helping to understand patterns, relationships, and trends in various phenomena.'"
      ]
     },
     "execution_count": 1,
     "metadata": {},
     "output_type": "execute_result"
    }
   ],
   "source": [
    "# Q1\n",
    "'''\n",
    "Statistics is a branch of mathematics and a scientific discipline that involves collecting, organizing, analyzing, interpreting, and presenting data. \n",
    "It provides methods and techniques to summarize and draw conclusions from data, helping to understand patterns, relationships, and trends in various phenomena.'''"
   ]
  },
  {
   "cell_type": "code",
   "execution_count": 2,
   "metadata": {},
   "outputs": [
    {
     "data": {
      "text/plain": [
       "'\\n1.Descriptive Statistics: Describes and summarizes data using measures like mean, median, mode, and standard deviation. Example: Calculating the average age of students in a classroom.\\n2.Inferential Statistics: Involves making predictions or inferences about a population based on a sample. Example: Using a sample of voter preferences to predict the outcome of an election.\\n3.Exploratory Statistics: Involves initial data analysis to uncover patterns, relationships, or anomalies. Example: Creating scatter plots to explore the correlation between two variables.\\n'"
      ]
     },
     "execution_count": 2,
     "metadata": {},
     "output_type": "execute_result"
    }
   ],
   "source": [
    "# Q2\n",
    "'''\n",
    "1.Descriptive Statistics: Describes and summarizes data using measures like mean, median, mode, and standard deviation. Example: Calculating the average age of students in a classroom.\n",
    "2.Inferential Statistics: Involves making predictions or inferences about a population based on a sample. Example: Using a sample of voter preferences to predict the outcome of an election.\n",
    "3.Exploratory Statistics: Involves initial data analysis to uncover patterns, relationships, or anomalies. Example: Creating scatter plots to explore the correlation between two variables.\n",
    "'''"
   ]
  },
  {
   "cell_type": "code",
   "execution_count": null,
   "metadata": {},
   "outputs": [],
   "source": [
    "# Q3\n",
    "'''\n",
    "1.Qualitative/Categorical Data: Represents characteristics or attributes and can be divided into nominal and ordinal data.\n",
    "2.Nominal Data: Categories with no inherent order. Example: Types of fruits (apple, orange, banana).\n",
    "3.Ordinal Data: Categories with a meaningful order. Example: Educational levels (high school, bachelor's, master's).\n",
    "4.Quantitative/Numerical Data: Represents quantities and can be divided into discrete and continuous data.\n",
    "5.Discrete Data: Individual, separate values. Example: Number of students in a class.\n",
    "6.Continuous Data: Infinite range of values within a given interval. Example: Heights of students in a class.'''"
   ]
  },
  {
   "cell_type": "code",
   "execution_count": null,
   "metadata": {},
   "outputs": [],
   "source": [
    "# Q4\n",
    "'''\n",
    "1.Grading in exam: Ordinal (Qualitative)\n",
    "2.Colour of mangoes: Nominal (Qualitative)\n",
    "3.Height data of a class: Continuous (Quantitative)\n",
    "4.Number of mangoes exported by a farm: Discrete (Quantitative)'''"
   ]
  },
  {
   "cell_type": "code",
   "execution_count": null,
   "metadata": {},
   "outputs": [],
   "source": [
    "# Q5\n",
    "'''\n",
    ".Nominal: Categories with no inherent order. Example: Eye colors (blue, brown, green).\n",
    ".Ordinal: Categories with a meaningful order. Example: Survey ratings (low, medium, high).\n",
    ".Interval: Equal intervals between values, but no true zero point. Example: Celsius temperature.\n",
    ".Ratio: Equal intervals and a true zero point. Example: Weight, height.'''"
   ]
  },
  {
   "cell_type": "code",
   "execution_count": null,
   "metadata": {},
   "outputs": [],
   "source": [
    "# Q6\n",
    "'''Understanding the level of measurement is crucial when analyzing data because it determines the types of statistical analyses that can be performed. For example, you can calculate the mean of ratio-level data, \n",
    "but not for ordinal-level data, as it lacks meaningful numerical interpretation. Calculating a mean for ordinal data may not make sense due to the absence of true numerical distances between categories.\n",
    "\n",
    "Example: Suppose you have data on customer satisfaction ratings (ordinal) and their ages (ratio). While you can calculate the average age of your customers, calculating the average satisfaction rating wouldn't provide meaningful insights due to the ordinal nature of the data.'''"
   ]
  },
  {
   "cell_type": "code",
   "execution_count": null,
   "metadata": {},
   "outputs": [],
   "source": [
    "# Q7\n",
    "'''Nominal data has categories without any inherent order, while ordinal data has categories with a meaningful order.\n",
    "In nominal data, the categories are distinct and don't convey any relative ranking. In ordinal data, the categories can be ranked or ordered in some meaningful way.'''"
   ]
  },
  {
   "cell_type": "code",
   "execution_count": null,
   "metadata": {},
   "outputs": [],
   "source": [
    "# Q8\n",
    "'''The plot that can be used to display data in terms of range is a Range Plot, which usually represents the minimum and maximum values of a dataset. \n",
    "It provides a visual representation of the spread of data between the minimum and maximum points.'''"
   ]
  },
  {
   "cell_type": "code",
   "execution_count": null,
   "metadata": {},
   "outputs": [],
   "source": [
    "# Q9\n",
    "'''\n",
    ":Descriptive Statistics: Summarizes and describes data using measures like mean, median, and standard deviation.\n",
    "Example: Calculating the average income of a group.\n",
    "\n",
    ":Inferential Statistics: Involves drawing conclusions about a population based on a sample, often using probability theory. \n",
    "Example: Estimating the percentage of voters who support a certain political candidate based on a survey sample.'''"
   ]
  },
  {
   "cell_type": "code",
   "execution_count": 3,
   "metadata": {},
   "outputs": [
    {
     "data": {
      "text/plain": [
       "\"Central Tendency: Measures that describe the center of a dataset.\\nMean: Average value; sensitive to extreme values.\\nMedian: Middle value when data is sorted; less affected by outliers.\\nMode: Most frequent value; can be used for categorical data.\\nVariability: Measures that describe the spread or dispersion of data.\\nRange: Difference between the maximum and minimum values; affected by outliers.\\nVariance: Average of squared differences from the mean; gives an idea of data's spread.\\nStandard Deviation: Square root of variance; measures spread around the mean.\""
      ]
     },
     "execution_count": 3,
     "metadata": {},
     "output_type": "execute_result"
    }
   ],
   "source": [
    "# Q10\n",
    "'''Central Tendency: Measures that describe the center of a dataset.\n",
    "Mean: Average value; sensitive to extreme values.\n",
    "Median: Middle value when data is sorted; less affected by outliers.\n",
    "Mode: Most frequent value; can be used for categorical data.\n",
    "Variability: Measures that describe the spread or dispersion of data.\n",
    "Range: Difference between the maximum and minimum values; affected by outliers.\n",
    "Variance: Average of squared differences from the mean; gives an idea of data's spread.\n",
    "Standard Deviation: Square root of variance; measures spread around the mean.'''"
   ]
  }
 ],
 "metadata": {
  "kernelspec": {
   "display_name": "Python 3",
   "language": "python",
   "name": "python3"
  },
  "language_info": {
   "codemirror_mode": {
    "name": "ipython",
    "version": 3
   },
   "file_extension": ".py",
   "mimetype": "text/x-python",
   "name": "python",
   "nbconvert_exporter": "python",
   "pygments_lexer": "ipython3",
   "version": "3.11.4"
  },
  "orig_nbformat": 4
 },
 "nbformat": 4,
 "nbformat_minor": 2
}
